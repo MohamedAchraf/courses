{
  "nbformat": 4,
  "nbformat_minor": 0,
  "metadata": {
    "anaconda-cloud": {},
    "kernelspec": {
      "display_name": "Python 3",
      "language": "python",
      "name": "python3"
    },
    "language_info": {
      "codemirror_mode": {
        "name": "ipython",
        "version": 3
      },
      "file_extension": ".py",
      "mimetype": "text/x-python",
      "name": "python",
      "nbconvert_exporter": "python",
      "pygments_lexer": "ipython3",
      "version": "3.7.7"
    },
    "colab": {
      "name": "money_TF1.ipynb",
      "provenance": []
    }
  },
  "cells": [
    {
      "cell_type": "markdown",
      "metadata": {
        "id": "92SP0a8Wl925"
      },
      "source": [
        "# <div align = center>التّأكّد من سلامة الأوراق النّقديّة"
      ]
    },
    {
      "cell_type": "markdown",
      "metadata": {
        "id": "Dbmog3Ogl93A"
      },
      "source": [
        "<hr>"
      ]
    },
    {
      "cell_type": "markdown",
      "metadata": {
        "id": "v6wG42fvl93D"
      },
      "source": [
        "# I.    HEADERS (المكتبات)\n",
        "\n",
        "# II.   DATA (البيانات)\n",
        "\n",
        "# III. GRAPH (الهيكل)\n",
        "\n",
        "# IV. SESSION (التطبيق)"
      ]
    },
    {
      "cell_type": "markdown",
      "metadata": {
        "id": "ODwzjkXdl93C"
      },
      "source": [
        "<hr>"
      ]
    },
    {
      "cell_type": "markdown",
      "metadata": {
        "id": "-nydb3LUl93E"
      },
      "source": [
        "<hr>"
      ]
    },
    {
      "cell_type": "markdown",
      "metadata": {
        "id": "EEriARtRl93E"
      },
      "source": [
        "# I - Headers"
      ]
    },
    {
      "cell_type": "markdown",
      "metadata": {
        "id": "xm2_haQBl93F"
      },
      "source": [
        "## I - 1 Librairies (المكتبات)"
      ]
    },
    {
      "cell_type": "code",
      "metadata": {
        "scrolled": true,
        "id": "9DZbaZ_Kl93G",
        "colab": {
          "base_uri": "https://localhost:8080/"
        },
        "outputId": "3699ffdb-2a64-41b0-c4be-5d9a525f25b3"
      },
      "source": [
        "import tensorflow.compat.v1 as tf\n",
        "tf.disable_v2_behavior() \n",
        "import pandas as pan\n",
        "import numpy as np"
      ],
      "execution_count": null,
      "outputs": [
        {
          "output_type": "stream",
          "name": "stdout",
          "text": [
            "WARNING:tensorflow:From /usr/local/lib/python3.7/dist-packages/tensorflow/python/compat/v2_compat.py:111: disable_resource_variables (from tensorflow.python.ops.variable_scope) is deprecated and will be removed in a future version.\n",
            "Instructions for updating:\n",
            "non-resource variables are not supported in the long term\n"
          ]
        }
      ]
    },
    {
      "cell_type": "markdown",
      "metadata": {
        "id": "hStlRHsJl93J"
      },
      "source": [
        "## I - 2 Initialization (التهيئة)"
      ]
    },
    {
      "cell_type": "code",
      "metadata": {
        "id": "257yIEsll93K"
      },
      "source": [
        "# Learning rate\n",
        "alpha = 0.01\n",
        "\n",
        "# Number of interations\n",
        "epoch=20001\n",
        "\n",
        "# Step\n",
        "Display_Step = 1000"
      ],
      "execution_count": null,
      "outputs": []
    },
    {
      "cell_type": "markdown",
      "metadata": {
        "id": "-JVJ-oILl93L"
      },
      "source": [
        "# II - Data (البيانات)"
      ]
    },
    {
      "cell_type": "markdown",
      "metadata": {
        "id": "fY9UV0wNl93L"
      },
      "source": [
        "## II - 1 Loading Data (تحميل البيانات)"
      ]
    },
    {
      "cell_type": "code",
      "metadata": {
        "id": "4GqyQ4vWdWmb",
        "colab": {
          "base_uri": "https://localhost:8080/"
        },
        "outputId": "2810fce6-b37b-4317-dac5-d63dc57c3494"
      },
      "source": [
        "from google.colab import drive\n",
        "drive.mount('/content/drive/')"
      ],
      "execution_count": null,
      "outputs": [
        {
          "output_type": "stream",
          "name": "stdout",
          "text": [
            "Drive already mounted at /content/drive/; to attempt to forcibly remount, call drive.mount(\"/content/drive/\", force_remount=True).\n"
          ]
        }
      ]
    },
    {
      "cell_type": "code",
      "metadata": {
        "id": "RudYOh_fl93M"
      },
      "source": [
        "data = pan.read_csv('/content/drive/My Drive/data/money.csv')"
      ],
      "execution_count": null,
      "outputs": []
    },
    {
      "cell_type": "markdown",
      "metadata": {
        "id": "P7Tw_tIxl93M"
      },
      "source": [
        "## II - 2 Data Summary (ملخص البيانات)"
      ]
    },
    {
      "cell_type": "code",
      "metadata": {
        "id": "e_3m2YJPl93M",
        "colab": {
          "base_uri": "https://localhost:8080/",
          "height": 295
        },
        "outputId": "18859bdd-bce9-4fd2-d965-3038efab5594"
      },
      "source": [
        "data.describe()"
      ],
      "execution_count": null,
      "outputs": [
        {
          "output_type": "execute_result",
          "data": {
            "text/html": [
              "<div>\n",
              "<style scoped>\n",
              "    .dataframe tbody tr th:only-of-type {\n",
              "        vertical-align: middle;\n",
              "    }\n",
              "\n",
              "    .dataframe tbody tr th {\n",
              "        vertical-align: top;\n",
              "    }\n",
              "\n",
              "    .dataframe thead th {\n",
              "        text-align: right;\n",
              "    }\n",
              "</style>\n",
              "<table border=\"1\" class=\"dataframe\">\n",
              "  <thead>\n",
              "    <tr style=\"text-align: right;\">\n",
              "      <th></th>\n",
              "      <th>X1</th>\n",
              "      <th>X2</th>\n",
              "      <th>X3</th>\n",
              "      <th>X4</th>\n",
              "      <th>Label1</th>\n",
              "      <th>Label2</th>\n",
              "    </tr>\n",
              "  </thead>\n",
              "  <tbody>\n",
              "    <tr>\n",
              "      <th>count</th>\n",
              "      <td>1372.000000</td>\n",
              "      <td>1372.000000</td>\n",
              "      <td>1372.000000</td>\n",
              "      <td>1372.000000</td>\n",
              "      <td>1372.000000</td>\n",
              "      <td>1372.000000</td>\n",
              "    </tr>\n",
              "    <tr>\n",
              "      <th>mean</th>\n",
              "      <td>0.433735</td>\n",
              "      <td>1.922353</td>\n",
              "      <td>1.397627</td>\n",
              "      <td>-1.191657</td>\n",
              "      <td>0.444606</td>\n",
              "      <td>0.555394</td>\n",
              "    </tr>\n",
              "    <tr>\n",
              "      <th>std</th>\n",
              "      <td>2.842763</td>\n",
              "      <td>5.869047</td>\n",
              "      <td>4.310030</td>\n",
              "      <td>2.101013</td>\n",
              "      <td>0.497103</td>\n",
              "      <td>0.497103</td>\n",
              "    </tr>\n",
              "    <tr>\n",
              "      <th>min</th>\n",
              "      <td>-7.042100</td>\n",
              "      <td>-13.773100</td>\n",
              "      <td>-5.286100</td>\n",
              "      <td>-8.548200</td>\n",
              "      <td>0.000000</td>\n",
              "      <td>0.000000</td>\n",
              "    </tr>\n",
              "    <tr>\n",
              "      <th>25%</th>\n",
              "      <td>-1.773000</td>\n",
              "      <td>-1.708200</td>\n",
              "      <td>-1.574975</td>\n",
              "      <td>-2.413450</td>\n",
              "      <td>0.000000</td>\n",
              "      <td>0.000000</td>\n",
              "    </tr>\n",
              "    <tr>\n",
              "      <th>50%</th>\n",
              "      <td>0.496180</td>\n",
              "      <td>2.319650</td>\n",
              "      <td>0.616630</td>\n",
              "      <td>-0.586650</td>\n",
              "      <td>0.000000</td>\n",
              "      <td>1.000000</td>\n",
              "    </tr>\n",
              "    <tr>\n",
              "      <th>75%</th>\n",
              "      <td>2.821475</td>\n",
              "      <td>6.814625</td>\n",
              "      <td>3.179250</td>\n",
              "      <td>0.394810</td>\n",
              "      <td>1.000000</td>\n",
              "      <td>1.000000</td>\n",
              "    </tr>\n",
              "    <tr>\n",
              "      <th>max</th>\n",
              "      <td>6.824800</td>\n",
              "      <td>12.951600</td>\n",
              "      <td>17.927400</td>\n",
              "      <td>2.449500</td>\n",
              "      <td>1.000000</td>\n",
              "      <td>1.000000</td>\n",
              "    </tr>\n",
              "  </tbody>\n",
              "</table>\n",
              "</div>"
            ],
            "text/plain": [
              "                X1           X2  ...       Label1       Label2\n",
              "count  1372.000000  1372.000000  ...  1372.000000  1372.000000\n",
              "mean      0.433735     1.922353  ...     0.444606     0.555394\n",
              "std       2.842763     5.869047  ...     0.497103     0.497103\n",
              "min      -7.042100   -13.773100  ...     0.000000     0.000000\n",
              "25%      -1.773000    -1.708200  ...     0.000000     0.000000\n",
              "50%       0.496180     2.319650  ...     0.000000     1.000000\n",
              "75%       2.821475     6.814625  ...     1.000000     1.000000\n",
              "max       6.824800    12.951600  ...     1.000000     1.000000\n",
              "\n",
              "[8 rows x 6 columns]"
            ]
          },
          "metadata": {},
          "execution_count": 5
        }
      ]
    },
    {
      "cell_type": "markdown",
      "metadata": {
        "id": "7njPScJql93N"
      },
      "source": [
        "## II - 3 Display Data (عرض البيانات)"
      ]
    },
    {
      "cell_type": "code",
      "metadata": {
        "id": "KLCdKL10l93N",
        "colab": {
          "base_uri": "https://localhost:8080/",
          "height": 265
        },
        "outputId": "ce31f282-23b7-4a90-cb06-da6e21353e17"
      },
      "source": [
        "data.head(7)"
      ],
      "execution_count": null,
      "outputs": [
        {
          "output_type": "execute_result",
          "data": {
            "text/html": [
              "<div>\n",
              "<style scoped>\n",
              "    .dataframe tbody tr th:only-of-type {\n",
              "        vertical-align: middle;\n",
              "    }\n",
              "\n",
              "    .dataframe tbody tr th {\n",
              "        vertical-align: top;\n",
              "    }\n",
              "\n",
              "    .dataframe thead th {\n",
              "        text-align: right;\n",
              "    }\n",
              "</style>\n",
              "<table border=\"1\" class=\"dataframe\">\n",
              "  <thead>\n",
              "    <tr style=\"text-align: right;\">\n",
              "      <th></th>\n",
              "      <th>X1</th>\n",
              "      <th>X2</th>\n",
              "      <th>X3</th>\n",
              "      <th>X4</th>\n",
              "      <th>Label1</th>\n",
              "      <th>Label2</th>\n",
              "    </tr>\n",
              "  </thead>\n",
              "  <tbody>\n",
              "    <tr>\n",
              "      <th>0</th>\n",
              "      <td>-0.025314</td>\n",
              "      <td>-0.17383</td>\n",
              "      <td>-0.11339</td>\n",
              "      <td>1.21980</td>\n",
              "      <td>1</td>\n",
              "      <td>0</td>\n",
              "    </tr>\n",
              "    <tr>\n",
              "      <th>1</th>\n",
              "      <td>5.807000</td>\n",
              "      <td>5.00970</td>\n",
              "      <td>-2.23840</td>\n",
              "      <td>0.43878</td>\n",
              "      <td>0</td>\n",
              "      <td>1</td>\n",
              "    </tr>\n",
              "    <tr>\n",
              "      <th>2</th>\n",
              "      <td>-2.434900</td>\n",
              "      <td>-9.24970</td>\n",
              "      <td>8.99220</td>\n",
              "      <td>-0.50001</td>\n",
              "      <td>1</td>\n",
              "      <td>0</td>\n",
              "    </tr>\n",
              "    <tr>\n",
              "      <th>3</th>\n",
              "      <td>-1.693600</td>\n",
              "      <td>2.78520</td>\n",
              "      <td>-2.18350</td>\n",
              "      <td>-1.92760</td>\n",
              "      <td>1</td>\n",
              "      <td>0</td>\n",
              "    </tr>\n",
              "    <tr>\n",
              "      <th>4</th>\n",
              "      <td>0.636550</td>\n",
              "      <td>5.20220</td>\n",
              "      <td>-5.21590</td>\n",
              "      <td>-6.12110</td>\n",
              "      <td>1</td>\n",
              "      <td>0</td>\n",
              "    </tr>\n",
              "    <tr>\n",
              "      <th>5</th>\n",
              "      <td>3.384800</td>\n",
              "      <td>3.26740</td>\n",
              "      <td>0.90967</td>\n",
              "      <td>0.25128</td>\n",
              "      <td>0</td>\n",
              "      <td>1</td>\n",
              "    </tr>\n",
              "    <tr>\n",
              "      <th>6</th>\n",
              "      <td>0.004054</td>\n",
              "      <td>0.62905</td>\n",
              "      <td>-0.64121</td>\n",
              "      <td>0.75817</td>\n",
              "      <td>1</td>\n",
              "      <td>0</td>\n",
              "    </tr>\n",
              "  </tbody>\n",
              "</table>\n",
              "</div>"
            ],
            "text/plain": [
              "         X1       X2       X3       X4  Label1  Label2\n",
              "0 -0.025314 -0.17383 -0.11339  1.21980       1       0\n",
              "1  5.807000  5.00970 -2.23840  0.43878       0       1\n",
              "2 -2.434900 -9.24970  8.99220 -0.50001       1       0\n",
              "3 -1.693600  2.78520 -2.18350 -1.92760       1       0\n",
              "4  0.636550  5.20220 -5.21590 -6.12110       1       0\n",
              "5  3.384800  3.26740  0.90967  0.25128       0       1\n",
              "6  0.004054  0.62905 -0.64121  0.75817       1       0"
            ]
          },
          "metadata": {},
          "execution_count": 6
        }
      ]
    },
    {
      "cell_type": "markdown",
      "metadata": {
        "id": "ndVkBdNKl93O"
      },
      "source": [
        "## II-4 تقسيم بيانات التدريب إلى مدخلات ومخرجات"
      ]
    },
    {
      "cell_type": "code",
      "metadata": {
        "id": "95kHLCD3l93O" 
      },
      "source": [
        "X=data.loc[:, ['X1', 'X2', 'X3', 'X4']].values\n",
        "Y=data.loc[:, [\"Label1\", \"Label2\"]].values"
      ],
      "execution_count": null,
      "outputs": []
    },
    {
      "cell_type": "markdown",
      "metadata": {
        "id": "W9Qf5arfl93P"
      },
      "source": [
        "## II-5 تقسيم بيانات التدريب إلى مجموعة تدريب ومجموعة اختبار"
      ]
    },
    {
      "cell_type": "markdown",
      "metadata": {
        "id": "RP-LVHxnl93P"
      },
      "source": [
        "### II-5-A بيانات التدريب"
      ]
    },
    {
      "cell_type": "code",
      "metadata": {
        "id": "-oFuneHyl93P"
      },
      "source": [
        "x_train=data.loc[0:1000, ['X1', 'X2', 'X3', 'X4']].values\n",
        "y_train=data.loc[0:1000, [\"Label1\", \"Label2\"]].values"
      ],
      "execution_count": null,
      "outputs": []
    },
    {
      "cell_type": "markdown",
      "metadata": {
        "id": "uLhQ9Fsyl93Q"
      },
      "source": [
        "### II-5-B مجموعة الاختبار"
      ]
    },
    {
      "cell_type": "code",
      "metadata": {
        "id": "ds7a0yIWl93Q"
      },
      "source": [
        "x_test=data.loc[1001:len(data), ['X1', 'X2', 'X3', 'X4']].values\n",
        "y_test=data.loc[1001:len(data), [\"Label1\", \"Label2\"]].values"
      ],
      "execution_count": null,
      "outputs": []
    },
    {
      "cell_type": "markdown",
      "metadata": {
        "id": "N6R67mQCl93Q"
      },
      "source": [
        "# III - Graph (الهيكل)"
      ]
    },
    {
      "cell_type": "markdown",
      "metadata": {
        "id": "JlpICuVEl93R"
      },
      "source": [
        "## III-1 placeholders ( الإدخال يحتوي على 4 خاصيات والمخرج يحتوي على صنفين)"
      ]
    },
    {
      "cell_type": "code",
      "metadata": {
        "id": "WyMOYwFYl93R"
      },
      "source": [
        "x_inp=tf.placeholder(tf.float32,shape=[None, 4])\n",
        "y_inp=tf.placeholder(tf.float32,shape=[None, 2])"
      ],
      "execution_count": null,
      "outputs": []
    },
    {
      "cell_type": "markdown",
      "metadata": {
        "id": "nb7jEeZil93R"
      },
      "source": [
        "## III-2 المتغيرات. (W & b)"
      ]
    },
    {
      "cell_type": "markdown",
      "metadata": {
        "id": "mlPP4ENkmnp_"
      },
      "source": [
        "![](https://drive.google.com/uc?export=view&id=1se1dUcgfLB089ZRD5DNcBtF2JxQQ1LA9)\n"
      ]
    },
    {
      "cell_type": "code",
      "metadata": {
        "id": "A-oR0SB4l93S"
      },
      "source": [
        "W1=tf.Variable(tf.random_normal([4,4]))\n",
        "b1=tf.Variable(tf.random_normal([4]))\n",
        "\n",
        "W2=tf.Variable(tf.random_normal([4,2]))\n",
        "b2=tf.Variable(tf.random_normal([2]))"
      ],
      "execution_count": null,
      "outputs": []
    },
    {
      "cell_type": "markdown",
      "metadata": {
        "id": "eFYn-wAhl93S"
      },
      "source": [
        "## III-3 Model :نموذج (SoftMax طبقة واحدة مخفية ودالة )"
      ]
    },
    {
      "cell_type": "markdown",
      "metadata": {
        "id": "5WfdO5omcecV"
      },
      "source": [
        "![](https://drive.google.com/uc?export=view&id=1vSa358IMFF6l8qaSUxUKajkOrDtflrZ6)\n"
      ]
    },
    {
      "cell_type": "code",
      "metadata": {
        "id": "x42aNiYZl93S"
      },
      "source": [
        "z1 = tf.matmul(x_inp, W1) + b1\n",
        "a1 = tf.nn.sigmoid(z1)\n",
        "\n",
        "z2 = tf.matmul(a1, W2) + b2\n",
        "a2 = tf.nn.sigmoid(z2)\n",
        "\n",
        "y = tf.nn.softmax(a2)"
      ],
      "execution_count": null,
      "outputs": []
    },
    {
      "cell_type": "markdown",
      "metadata": {
        "id": "9H8loVKrl93T"
      },
      "source": [
        "## III-4 Loss function. (Cross Entropy)"
      ]
    },
    {
      "cell_type": "code",
      "metadata": {
        "id": "YG7xwhOVl93T"
      },
      "source": [
        "cross_entropy = tf.reduce_mean(-tf.reduce_sum(y_inp * tf.log(y), reduction_indices=[1]))"
      ],
      "execution_count": null,
      "outputs": []
    },
    {
      "cell_type": "markdown",
      "metadata": {
        "id": "57eIJmRIl93T"
      },
      "source": [
        "## III-5 Optimiser. "
      ]
    },
    {
      "cell_type": "code",
      "metadata": {
        "id": "2Je_SWx6l93T"
      },
      "source": [
        "optimizer = tf.train.GradientDescentOptimizer(alpha).minimize(cross_entropy)"
      ],
      "execution_count": null,
      "outputs": []
    },
    {
      "cell_type": "markdown",
      "metadata": {
        "id": "08_I-wXCl93U"
      },
      "source": [
        "## III-6 حساب دقة النموذج "
      ]
    },
    {
      "cell_type": "code",
      "metadata": {
        "id": "L_HO4Dktl93U"
      },
      "source": [
        "correct_prediction = tf.equal(tf.argmax(y,1), tf.argmax(y_inp,1))\n",
        "accuracy = tf.reduce_mean(tf.cast(correct_prediction, tf.float32))"
      ],
      "execution_count": null,
      "outputs": []
    },
    {
      "cell_type": "markdown",
      "metadata": {
        "id": "7IrxMqdXl93U"
      },
      "source": [
        "# VI- Session (التطبيق)"
      ]
    },
    {
      "cell_type": "markdown",
      "metadata": {
        "id": "2HIDlijBl93V"
      },
      "source": [
        "## VI-1 إعلان التطبيق "
      ]
    },
    {
      "cell_type": "code",
      "metadata": {
        "id": "kfdiZI6ul93V"
      },
      "source": [
        "sess = tf.Session()"
      ],
      "execution_count": null,
      "outputs": []
    },
    {
      "cell_type": "markdown",
      "metadata": {
        "id": "TSJcrgqvl93V"
      },
      "source": [
        "## VI-2 تحديد القيم الأولية للمتغيرات"
      ]
    },
    {
      "cell_type": "code",
      "metadata": {
        "id": "JpJBg9B2l93V"
      },
      "source": [
        "sess.run(tf.global_variables_initializer())"
      ],
      "execution_count": null,
      "outputs": []
    },
    {
      "cell_type": "markdown",
      "metadata": {
        "id": "e3wN7h4Pl93V"
      },
      "source": [
        "## VI-3 التدريب"
      ]
    },
    {
      "cell_type": "code",
      "metadata": {
        "id": "mZmpkX8rl93W",
        "colab": {
          "base_uri": "https://localhost:8080/"
        },
        "outputId": "9e112edb-20a5-4375-b736-22188eb99b3b"
      },
      "source": [
        "for step in range(epoch):\n",
        "   _, c_ent = sess.run([optimizer,cross_entropy], feed_dict={x_inp: x_train, y_inp: y_train})\n",
        "\n",
        "   if step%Display_Step==0 :\n",
        "       print (step,':', c_ent)"
      ],
      "execution_count": null,
      "outputs": [
        {
          "output_type": "stream",
          "name": "stdout",
          "text": [
            "0 : 0.68958396\n",
            "1000 : 0.6762256\n",
            "2000 : 0.6637824\n",
            "3000 : 0.6509207\n",
            "4000 : 0.63450336\n",
            "5000 : 0.61074615\n",
            "6000 : 0.5899131\n",
            "7000 : 0.5683726\n",
            "8000 : 0.5460674\n",
            "9000 : 0.52389246\n",
            "10000 : 0.5026848\n",
            "11000 : 0.48291823\n",
            "12000 : 0.46486533\n",
            "13000 : 0.44861826\n",
            "14000 : 0.4309645\n",
            "15000 : 0.41162354\n",
            "16000 : 0.3953031\n",
            "17000 : 0.38487503\n",
            "18000 : 0.3777456\n",
            "19000 : 0.37203386\n",
            "20000 : 0.3672214\n"
          ]
        }
      ]
    },
    {
      "cell_type": "markdown",
      "metadata": {
        "id": "cMurcic2l93W"
      },
      "source": [
        "## VI-4 الدقة"
      ]
    },
    {
      "cell_type": "code",
      "metadata": {
        "id": "si-0IYOYl93X",
        "colab": {
          "base_uri": "https://localhost:8080/"
        },
        "outputId": "69e1cc77-2c75-4fe9-9540-f685d577cc7b"
      },
      "source": [
        "acc = sess.run(accuracy,feed_dict={x_inp: x_test, y_inp:y_test})\n",
        "print(\"Accuracy = %0.2f\" % (acc*100), \"%\")"
      ],
      "execution_count": null,
      "outputs": [
        {
          "output_type": "stream",
          "name": "stdout",
          "text": [
            "Accuracy = 98.65 %\n"
          ]
        }
      ]
    }
  ]
}
