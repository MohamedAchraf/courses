{
  "cells": [
    {
      "cell_type": "markdown",
      "metadata": {
        "id": "_iTuqf9U31Q5"
      },
      "source": [
        "# <div align = center>MNIST: تصنيف الأرقام المكتوبة بخط اليد"
      ]
    },
    {
      "cell_type": "markdown",
      "metadata": {
        "id": "bb1PUBLz31Q9"
      },
      "source": [
        "<hr>"
      ]
    },
    {
      "cell_type": "markdown",
      "metadata": {
        "id": "Bvxug2Ih31Q-"
      },
      "source": [
        "#1 - المكتبات (Librairies)"
      ]
    },
    {
      "cell_type": "code",
      "execution_count": null,
      "metadata": {
        "id": "2zMt6Vf231Q_"
      },
      "outputs": [],
      "source": [
        "import tensorflow as tf\n",
        "import numpy as np\n",
        "import matplotlib.pyplot as plt"
      ]
    },
    {
      "cell_type": "markdown",
      "metadata": {
        "id": "lOBD0VPa31RA"
      },
      "source": [
        "# 2 - البيانات  (Data)"
      ]
    },
    {
      "cell_type": "markdown",
      "metadata": {
        "id": "5LMXBPloVz__"
      },
      "source": [
        "## 2.1 - تحميل البيانات"
      ]
    },
    {
      "cell_type": "code",
      "execution_count": null,
      "metadata": {
        "id": "pA1obEBAJ3P-",
        "colab": {
          "base_uri": "https://localhost:8080/"
        },
        "outputId": "889fd24d-3f27-4fd2-abe8-a407016781b4"
      },
      "outputs": [
        {
          "output_type": "stream",
          "name": "stdout",
          "text": [
            "Downloading data from https://storage.googleapis.com/tensorflow/tf-keras-datasets/mnist.npz\n",
            "11493376/11490434 [==============================] - 0s 0us/step\n",
            "11501568/11490434 [==============================] - 0s 0us/step\n"
          ]
        }
      ],
      "source": [
        "(x_train, y_train), (x_test, y_test) = tf.keras.datasets.mnist.load_data()"
      ]
    },
    {
      "cell_type": "markdown",
      "metadata": {
        "id": "pDuQnSJfWfRA"
      },
      "source": [
        "## 2.4 -  تغيير شكل المخرجات"
      ]
    },
    {
      "cell_type": "code",
      "execution_count": null,
      "metadata": {
        "id": "7h_7j_PSXDVn"
      },
      "outputs": [],
      "source": [
        "y_train = tf.keras.utils.to_categorical(y_train, 10)\n",
        "y_test  = tf.keras.utils.to_categorical(y_test,  10)"
      ]
    },
    {
      "cell_type": "markdown",
      "metadata": {
        "id": "CDzINaUqwNqe"
      },
      "source": [
        "# 3- الشبكة العصبية"
      ]
    },
    {
      "cell_type": "markdown",
      "metadata": {
        "id": "igxPXx1YYbHU"
      },
      "source": [
        "## 3.1 - النموذج"
      ]
    },
    {
      "cell_type": "code",
      "execution_count": null,
      "metadata": {
        "id": "03adv8Ex31RC",
        "colab": {
          "base_uri": "https://localhost:8080/"
        },
        "outputId": "802dbef7-5e9e-4a2c-d1dd-1b45974e2598"
      },
      "outputs": [
        {
          "output_type": "stream",
          "name": "stdout",
          "text": [
            "Model: \"sequential\"\n",
            "_________________________________________________________________\n",
            " Layer (type)                Output Shape              Param #   \n",
            "=================================================================\n",
            " Conv1_05_3x3 (Conv2D)       (None, 26, 26, 5)         50        \n",
            "                                                                 \n",
            " Conv2_20_5x5 (Conv2D)       (None, 11, 11, 20)        2520      \n",
            "                                                                 \n",
            " Conv3_40_5x5 (Conv2D)       (None, 7, 7, 40)          20040     \n",
            "                                                                 \n",
            " flatten (Flatten)           (None, 1960)              0         \n",
            "                                                                 \n",
            " Hidden_Layer_1 (Dense)      (None, 1960)              3843560   \n",
            "                                                                 \n",
            " Hidden_Layer_2 (Dense)      (None, 128)               251008    \n",
            "                                                                 \n",
            " Hidden_Layer_3 (Dense)      (None, 64)                8256      \n",
            "                                                                 \n",
            " Prediction (Dense)          (None, 10)                650       \n",
            "                                                                 \n",
            "=================================================================\n",
            "Total params: 4,126,084\n",
            "Trainable params: 4,126,084\n",
            "Non-trainable params: 0\n",
            "_________________________________________________________________\n",
            "None\n"
          ]
        }
      ],
      "source": [
        "model = tf.keras.Sequential(\n",
        "    [\n",
        "      tf.keras.layers.Conv2D( 5, kernel_size=(3, 3), strides=1, padding='valid', activation=\"relu\", name='Conv1_05_3x3' , input_shape=(28, 28, 1)),\n",
        "      tf.keras.layers.Conv2D(20, kernel_size=(5, 5), strides=2, padding='valid', activation=\"relu\", name='Conv2_20_5x5'),        \n",
        "      tf.keras.layers.Conv2D(40, kernel_size=(5, 5), strides=1, padding='valid', activation=\"relu\", name='Conv3_40_5x5'),\n",
        "     \n",
        "      tf.keras.layers.Flatten(),  \n",
        "      \n",
        "      tf.keras.layers.Dense(units=1960, activation='relu'   , name='Hidden_Layer_1'),\n",
        "      tf.keras.layers.Dense(units= 128, activation='relu'   , name='Hidden_Layer_2'),    \n",
        "      tf.keras.layers.Dense(units=  64, activation='relu'   , name='Hidden_Layer_3'),    \n",
        "      tf.keras.layers.Dense(units=  10, activation='softmax', name='Prediction'),\n",
        "    ]\n",
        ")\n",
        "\n",
        "print(model.summary())"
      ]
    },
    {
      "cell_type": "markdown",
      "metadata": {
        "id": "KqFmtzekZOWS"
      },
      "source": [
        "## 3.2 - الرسم البياني للنموذج "
      ]
    },
    {
      "cell_type": "code",
      "execution_count": null,
      "metadata": {
        "colab": {
          "base_uri": "https://localhost:8080/",
          "height": 856
        },
        "id": "BwKOf9Wk31RE",
        "outputId": "0afeb42b-ef34-4ad8-9375-9c883e250ac5"
      },
      "outputs": [
        {
          "output_type": "execute_result",
          "data": {
            "image/png": "[encoded data removed]",
            "text/plain": [
              "<IPython.core.display.Image object>"
            ]
          },
          "metadata": {},
          "execution_count": 5
        }
      ],
      "source": [
        "tf.keras.utils.plot_model(model, to_file='Mnist_CNN.png')"
      ]
    },
    {
      "cell_type": "markdown",
      "metadata": {
        "id": "reoce0DbZriZ"
      },
      "source": [
        "## 3.3 -  تركيب النموذج "
      ]
    },
    {
      "cell_type": "code",
      "execution_count": null,
      "metadata": {
        "id": "ijTln6QW31RE"
      },
      "outputs": [],
      "source": [
        "model.compile(\n",
        "    loss=\"categorical_crossentropy\",\n",
        "    optimizer=tf.keras.optimizers.Adam(learning_rate=0.001),\n",
        "    metrics=[\"accuracy\"],\n",
        ")"
      ]
    },
    {
      "cell_type": "markdown",
      "metadata": {
        "id": "5P0VCenS31RE"
      },
      "source": [
        "## 3.4 - تدريب النموذج\n",
        "\n"
      ]
    },
    {
      "cell_type": "code",
      "execution_count": null,
      "metadata": {
        "colab": {
          "base_uri": "https://localhost:8080/"
        },
        "id": "OPTBFsbg31RF",
        "outputId": "9dbd429f-dffc-47e9-d936-c0ac8a786f7b",
        "scrolled": false
      },
      "outputs": [
        {
          "output_type": "stream",
          "name": "stdout",
          "text": [
            "Epoch 1/7\n",
            "329/329 [==============================] - 14s 17ms/step - loss: 0.6092 - accuracy: 0.8976 - val_loss: 0.1237 - val_accuracy: 0.9642\n",
            "Epoch 2/7\n",
            "329/329 [==============================] - 4s 13ms/step - loss: 0.0804 - accuracy: 0.9758 - val_loss: 0.0881 - val_accuracy: 0.9729\n",
            "Epoch 3/7\n",
            "329/329 [==============================] - 4s 13ms/step - loss: 0.0401 - accuracy: 0.9877 - val_loss: 0.0765 - val_accuracy: 0.9794\n",
            "Epoch 4/7\n",
            "329/329 [==============================] - 4s 13ms/step - loss: 0.0340 - accuracy: 0.9894 - val_loss: 0.1029 - val_accuracy: 0.9744\n",
            "Epoch 5/7\n",
            "329/329 [==============================] - 4s 13ms/step - loss: 0.0330 - accuracy: 0.9896 - val_loss: 0.0844 - val_accuracy: 0.9783\n",
            "Epoch 6/7\n",
            "329/329 [==============================] - 4s 13ms/step - loss: 0.0230 - accuracy: 0.9931 - val_loss: 0.0870 - val_accuracy: 0.9814\n",
            "Epoch 7/7\n",
            "329/329 [==============================] - 4s 13ms/step - loss: 0.0259 - accuracy: 0.9919 - val_loss: 0.0896 - val_accuracy: 0.9806\n"
          ]
        }
      ],
      "source": [
        "history = model.fit(x_train, y_train,\n",
        "                    epochs=7,\n",
        "                    batch_size=128,\n",
        "                    validation_split=0.3,\n",
        "                    verbose=1)"
      ]
    },
    {
      "cell_type": "markdown",
      "metadata": {
        "id": "np8BuEy12xX_"
      },
      "source": [
        "## 3.5 -  التقييم\n"
      ]
    },
    {
      "cell_type": "code",
      "execution_count": null,
      "metadata": {
        "colab": {
          "base_uri": "https://localhost:8080/"
        },
        "id": "tgEprgowRBn2",
        "outputId": "9b4b5f23-d5c0-4014-b230-08476bf338fe"
      },
      "outputs": [
        {
          "output_type": "stream",
          "name": "stdout",
          "text": [
            "313/313 [==============================] - 2s 5ms/step - loss: 0.0751 - accuracy: 0.9808\n",
            "Accuracy = 98.08 %\n"
          ]
        }
      ],
      "source": [
        "loss, acc = model.evaluate(x_test, y_test,verbose=1)\n",
        "\n",
        "print(\"Accuracy = %0.2f\" % (acc*100), \"%\")"
      ]
    }
  ],
  "metadata": {
    "accelerator": "GPU",
    "colab": {
      "collapsed_sections": [],
      "name": "Mnist_CNN.ipynb",
      "provenance": []
    },
    "kernelspec": {
      "display_name": "Python 3",
      "language": "python",
      "name": "python3"
    },
    "language_info": {
      "codemirror_mode": {
        "name": "ipython",
        "version": 3
      },
      "file_extension": ".py",
      "mimetype": "text/x-python",
      "name": "python",
      "nbconvert_exporter": "python",
      "pygments_lexer": "ipython3",
      "version": "3.7.7"
    }
  },
  "nbformat": 4,
  "nbformat_minor": 0
}