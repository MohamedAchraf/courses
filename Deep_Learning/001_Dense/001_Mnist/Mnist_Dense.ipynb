{
  "nbformat": 4,
  "nbformat_minor": 0,
  "metadata": {
    "kernelspec": {
      "display_name": "Python 3",
      "language": "python",
      "name": "python3"
    },
    "language_info": {
      "codemirror_mode": {
        "name": "ipython",
        "version": 3
      },
      "file_extension": ".py",
      "mimetype": "text/x-python",
      "name": "python",
      "nbconvert_exporter": "python",
      "pygments_lexer": "ipython3",
      "version": "3.7.7"
    },
    "colab": {
      "name": "Mnist_Dense.ipynb",
      "provenance": [],
      "collapsed_sections": []
    },
    "accelerator": "GPU"
  },
  "cells": [
    {
      "cell_type": "markdown",
      "metadata": {
        "id": "_iTuqf9U31Q5"
      },
      "source": [
        "# <div align = center>MNIST: تصنيف الأرقام المكتوبة بخط اليد"
      ]
    },
    {
      "cell_type": "markdown",
      "metadata": {
        "id": "bb1PUBLz31Q9"
      },
      "source": [
        "<hr>"
      ]
    },
    {
      "cell_type": "markdown",
      "metadata": {
        "id": "Bvxug2Ih31Q-"
      },
      "source": [
        "#1 - المكتبات (Librairies)"
      ]
    },
    {
      "cell_type": "code",
      "metadata": {
        "id": "2zMt6Vf231Q_"
      },
      "source": [
        "import tensorflow as tf              # مكتبة التعلم الآلي والذكاء الاصطناعي\n",
        "import numpy as np                   # مكتبة الرياضيات المتقدمة\n",
        "import matplotlib.pyplot as plt      # مكتبة الرسوم البيانية\n",
        "import random                        # لتوليد أرقام عشوائية\n",
        "from keras.datasets import mnist     # Keras من المكتبة Mnist مجموعة البيانات    \n",
        "from keras.models import Sequential  # نوع النموذج الذي سيتم استخدامه\n",
        "from keras.layers.core import Dense, Activation # أنواع الطبقات التي سيتم استخدامها في نموذجنا\n",
        "from keras.utils import np_utils     # تحويل المخرجات من [1،0،....،9] إلى مصفوفة ثنائية \n",
        "from keras.utils.vis_utils import plot_model    # رسم صورة للنموذج"
      ],
      "execution_count": 1,
      "outputs": []
    },
    {
      "cell_type": "markdown",
      "metadata": {
        "id": "lOBD0VPa31RA"
      },
      "source": [
        "# 2 - البيانات  (Data)"
      ]
    },
    {
      "cell_type": "markdown",
      "metadata": {
        "id": "5LMXBPloVz__"
      },
      "source": [
        "## 2.1 - تحميل البيانات"
      ]
    },
    {
      "cell_type": "code",
      "metadata": {
        "id": "uLmbuwZe4efE",
        "colab": {
          "base_uri": "https://localhost:8080/"
        },
        "outputId": "d93bccba-9ebf-488a-d857-0c4c6c0686fc"
      },
      "source": [
        "(X_train, y_train), (X_test, y_test) = mnist.load_data()"
      ],
      "execution_count": 2,
      "outputs": [
        {
          "output_type": "stream",
          "name": "stdout",
          "text": [
            "Downloading data from https://storage.googleapis.com/tensorflow/tf-keras-datasets/mnist.npz\n",
            "11493376/11490434 [==============================] - 0s 0us/step\n",
            "11501568/11490434 [==============================] - 0s 0us/step\n"
          ]
        }
      ]
    },
    {
      "cell_type": "code",
      "metadata": {
        "id": "MJ-0F5t131RA",
        "colab": {
          "base_uri": "https://localhost:8080/"
        },
        "outputId": "f0e8c512-a6a6-453b-e662-d30ad9624749"
      },
      "source": [
        "print(\"X_train shape\", X_train.shape)\n",
        "print(\"y_train shape\", y_train.shape)\n",
        "print(\"X_test shape\", X_test.shape)\n",
        "print(\"y_test shape\", y_test.shape)"
      ],
      "execution_count": 3,
      "outputs": [
        {
          "output_type": "stream",
          "name": "stdout",
          "text": [
            "X_train shape (60000, 28, 28)\n",
            "y_train shape (60000,)\n",
            "X_test shape (10000, 28, 28)\n",
            "y_test shape (10000,)\n"
          ]
        }
      ]
    },
    {
      "cell_type": "markdown",
      "metadata": {
        "id": "Fg44H5doV3pB"
      },
      "source": [
        "## 2.2 - عرض البيانات"
      ]
    },
    {
      "cell_type": "code",
      "metadata": {
        "id": "vQvGVeXV31RB",
        "colab": {
          "base_uri": "https://localhost:8080/",
          "height": 369
        },
        "outputId": "d6ef0672-d6be-4776-96bb-aab9499d7a73"
      },
      "source": [
        "plt.rcParams['figure.figsize'] = (5,5) \n",
        "\n",
        "for i in range(9):\n",
        "    plt.subplot(3,3,i+1)\n",
        "    num = random.randint(0, len(X_train))\n",
        "    plt.imshow(X_train[num], cmap='gray', interpolation='none')\n",
        "    plt.title(\"Class {}\".format(y_train[num]))\n",
        "    \n",
        "plt.tight_layout()"
      ],
      "execution_count": 4,
      "outputs": [
        {
          "output_type": "display_data",
          "data": {
            "image/png": "[encoded data removed]",
            "text/plain": [
              "<Figure size 360x360 with 9 Axes>"
            ]
          },
          "metadata": {
            "needs_background": "light"
          }
        }
      ]
    },
    {
      "cell_type": "markdown",
      "metadata": {
        "id": "z4FJvurUVgHy"
      },
      "source": [
        "## 2.3 -  تغيير شكل المدخلات"
      ]
    },
    {
      "cell_type": "code",
      "metadata": {
        "id": "fuA03KTL31RB"
      },
      "source": [
        "X_train = X_train.reshape(60000, 784) \n",
        "X_test = X_test.reshape(10000, 784)   "
      ],
      "execution_count": 5,
      "outputs": []
    },
    {
      "cell_type": "code",
      "metadata": {
        "id": "U3jAS3H08S50",
        "colab": {
          "base_uri": "https://localhost:8080/"
        },
        "outputId": "e1ebae40-369f-4362-84a8-4930ab478d70"
      },
      "source": [
        "print(\"Training matrix shape\", X_train.shape)\n",
        "print(\"Testing matrix shape\", X_test.shape)"
      ],
      "execution_count": 6,
      "outputs": [
        {
          "output_type": "stream",
          "name": "stdout",
          "text": [
            "Training matrix shape (60000, 784)\n",
            "Testing matrix shape (10000, 784)\n"
          ]
        }
      ]
    },
    {
      "cell_type": "markdown",
      "metadata": {
        "id": "pDuQnSJfWfRA"
      },
      "source": [
        "## 2.4 -  تغيير شكل المخرجات"
      ]
    },
    {
      "cell_type": "code",
      "metadata": {
        "colab": {
          "base_uri": "https://localhost:8080/"
        },
        "id": "7h_7j_PSXDVn",
        "outputId": "6083655d-6e90-4c8e-c405-245c2e8289c2"
      },
      "source": [
        "print(\"y_train[0] = \", y_train[0])"
      ],
      "execution_count": 25,
      "outputs": [
        {
          "output_type": "stream",
          "name": "stdout",
          "text": [
            "y_train[0] =  5\n"
          ]
        }
      ]
    },
    {
      "cell_type": "code",
      "metadata": {
        "id": "85c3j9nS31RC"
      },
      "source": [
        "nb_classes = 10 \n",
        "\n",
        "Y_train = np_utils.to_categorical(y_train, nb_classes)\n",
        "Y_test = np_utils.to_categorical(y_test, nb_classes)"
      ],
      "execution_count": 9,
      "outputs": []
    },
    {
      "cell_type": "code",
      "metadata": {
        "colab": {
          "base_uri": "https://localhost:8080/"
        },
        "id": "ILN7CvEkXGnt",
        "outputId": "73a2606d-6130-4db9-9bba-09febf704c08"
      },
      "source": [
        "print(\"Y_train[0] = \", Y_train[0])"
      ],
      "execution_count": 26,
      "outputs": [
        {
          "output_type": "stream",
          "name": "stdout",
          "text": [
            "Y_train[0] =  [0. 0. 0. 0. 0. 1. 0. 0. 0. 0.]\n"
          ]
        }
      ]
    },
    {
      "cell_type": "markdown",
      "metadata": {
        "id": "CDzINaUqwNqe"
      },
      "source": [
        "# 3- الشبكة العصبية"
      ]
    },
    {
      "cell_type": "markdown",
      "metadata": {
        "id": "igxPXx1YYbHU"
      },
      "source": [
        "## 3.1 - النموذج"
      ]
    },
    {
      "cell_type": "code",
      "metadata": {
        "id": "03adv8Ex31RC"
      },
      "source": [
        "\n",
        "model = Sequential([\n",
        "  Dense(units=  128, activation='relu'   , name='Hidden_Layer_1',input_dim=784),\n",
        "  Dense(units=  64 , activation='relu'   , name='Hidden_Layer_2'),  \n",
        "  Dense(units=  10 , activation='softmax', name='Prediction')    \n",
        "\n",
        "])"
      ],
      "execution_count": 11,
      "outputs": []
    },
    {
      "cell_type": "markdown",
      "metadata": {
        "id": "nuUei6wZYxML"
      },
      "source": [
        ""
      ]
    },
    {
      "cell_type": "markdown",
      "metadata": {
        "id": "TncYCygkY7Nq"
      },
      "source": [
        "## 3.2 - ملخص النموذج "
      ]
    },
    {
      "cell_type": "code",
      "metadata": {
        "id": "JPwOE_1g31RD",
        "colab": {
          "base_uri": "https://localhost:8080/"
        },
        "outputId": "7f4b5c90-499d-4acf-ee10-c1f2e07c17c2"
      },
      "source": [
        "print(model.summary())"
      ],
      "execution_count": 12,
      "outputs": [
        {
          "output_type": "stream",
          "name": "stdout",
          "text": [
            "Model: \"sequential\"\n",
            "_________________________________________________________________\n",
            " Layer (type)                Output Shape              Param #   \n",
            "=================================================================\n",
            " Hidden_Layer_1 (Dense)      (None, 128)               100480    \n",
            "                                                                 \n",
            " Hidden_Layer_2 (Dense)      (None, 64)                8256      \n",
            "                                                                 \n",
            " Prediction (Dense)          (None, 10)                650       \n",
            "                                                                 \n",
            "=================================================================\n",
            "Total params: 109,386\n",
            "Trainable params: 109,386\n",
            "Non-trainable params: 0\n",
            "_________________________________________________________________\n",
            "None\n"
          ]
        }
      ]
    },
    {
      "cell_type": "markdown",
      "metadata": {
        "id": "KqFmtzekZOWS"
      },
      "source": [
        "## 3.3 - الرسم البياني للنموذج "
      ]
    },
    {
      "cell_type": "code",
      "metadata": {
        "id": "BwKOf9Wk31RE",
        "colab": {
          "base_uri": "https://localhost:8080/",
          "height": 369
        },
        "outputId": "bbe00ca5-7fe0-4f5a-b8c2-8d2405bb6bb3"
      },
      "source": [
        "plot_model(model, to_file='Mnist_dense.png')"
      ],
      "execution_count": 13,
      "outputs": [
        {
          "output_type": "execute_result",
          "data": {
            "image/png": "[encoded data removed]",
            "text/plain": [
              "<IPython.core.display.Image object>"
            ]
          },
          "metadata": {},
          "execution_count": 13
        }
      ]
    },
    {
      "cell_type": "markdown",
      "metadata": {
        "id": "reoce0DbZriZ"
      },
      "source": [
        "## 3.4 -  تركيب النموذج "
      ]
    },
    {
      "cell_type": "code",
      "metadata": {
        "id": "ijTln6QW31RE"
      },
      "source": [
        "model.compile(\n",
        "    loss=\"categorical_crossentropy\",\n",
        "    optimizer=tf.keras.optimizers.Adam(learning_rate=0.001),\n",
        "    metrics=[\"accuracy\"],\n",
        ")"
      ],
      "execution_count": 14,
      "outputs": []
    },
    {
      "cell_type": "markdown",
      "metadata": {
        "id": "5P0VCenS31RE"
      },
      "source": [
        "## 3.5 - تدريب النموذج\n",
        "\n"
      ]
    },
    {
      "cell_type": "code",
      "metadata": {
        "scrolled": false,
        "id": "OPTBFsbg31RF",
        "colab": {
          "base_uri": "https://localhost:8080/"
        },
        "outputId": "3ba6b12c-8b1d-4baa-eb30-c146c64a7a85"
      },
      "source": [
        "history = model.fit(X_train, Y_train,\n",
        "                    epochs=7,\n",
        "                    batch_size=100,\n",
        "                    validation_split=0.3,\n",
        "                    verbose=1)"
      ],
      "execution_count": 15,
      "outputs": [
        {
          "output_type": "stream",
          "name": "stdout",
          "text": [
            "Epoch 1/7\n",
            "420/420 [==============================] - 3s 5ms/step - loss: 3.0716 - accuracy: 0.8357 - val_loss: 0.8335 - val_accuracy: 0.8998\n",
            "Epoch 2/7\n",
            "420/420 [==============================] - 2s 4ms/step - loss: 0.5705 - accuracy: 0.9225 - val_loss: 0.6502 - val_accuracy: 0.9111\n",
            "Epoch 3/7\n",
            "420/420 [==============================] - 2s 4ms/step - loss: 0.3401 - accuracy: 0.9403 - val_loss: 0.4235 - val_accuracy: 0.9320\n",
            "Epoch 4/7\n",
            "420/420 [==============================] - 2s 4ms/step - loss: 0.2404 - accuracy: 0.9526 - val_loss: 0.3838 - val_accuracy: 0.9397\n",
            "Epoch 5/7\n",
            "420/420 [==============================] - 2s 4ms/step - loss: 0.1901 - accuracy: 0.9578 - val_loss: 0.3718 - val_accuracy: 0.9443\n",
            "Epoch 6/7\n",
            "420/420 [==============================] - 2s 5ms/step - loss: 0.1632 - accuracy: 0.9639 - val_loss: 0.3787 - val_accuracy: 0.9402\n",
            "Epoch 7/7\n",
            "420/420 [==============================] - 2s 4ms/step - loss: 0.1576 - accuracy: 0.9646 - val_loss: 0.3850 - val_accuracy: 0.9383\n"
          ]
        }
      ]
    },
    {
      "cell_type": "markdown",
      "metadata": {
        "id": "np8BuEy12xX_"
      },
      "source": [
        "## 3.6 -  التقييم\n"
      ]
    },
    {
      "cell_type": "code",
      "metadata": {
        "id": "tgEprgowRBn2",
        "colab": {
          "base_uri": "https://localhost:8080/"
        },
        "outputId": "1711707c-6448-422e-df61-debb129454cd"
      },
      "source": [
        "loss, acc = model.evaluate(X_test, Y_test,verbose=1)\n",
        "\n",
        "print(\"Accuracy = %0.2f\" % (acc*100), \"%\")"
      ],
      "execution_count": 16,
      "outputs": [
        {
          "output_type": "stream",
          "name": "stdout",
          "text": [
            "313/313 [==============================] - 1s 2ms/step - loss: 0.4112 - accuracy: 0.9369\n",
            "Accuracy = 93.69 %\n"
          ]
        }
      ]
    },
    {
      "cell_type": "markdown",
      "metadata": {
        "id": "9Wv-ly6GaXrA"
      },
      "source": [
        "# 4 - تحليل عملية التدريب"
      ]
    },
    {
      "cell_type": "markdown",
      "metadata": {
        "id": "b-zPLgSs3IjO"
      },
      "source": [
        "## 4.1 - الرسم البياني للدقة\n",
        "\n"
      ]
    },
    {
      "cell_type": "code",
      "metadata": {
        "scrolled": false,
        "id": "IqjIraNq31RF",
        "colab": {
          "base_uri": "https://localhost:8080/",
          "height": 404
        },
        "outputId": "0507e089-246b-4ea6-9b17-2182b4eeef54"
      },
      "source": [
        "plt.figure(figsize=(16,6))\n",
        "plt.plot(history.history['accuracy'], label='Accuracy (training data)')\n",
        "plt.plot(history.history['val_accuracy'], label='Accuracy (validation data)')\n",
        "plt.title('Accuracy')\n",
        "plt.ylabel('Accuracy value')\n",
        "plt.xlabel('No. epoch')\n",
        "plt.legend(loc=\"lower right\")\n",
        "plt.show()"
      ],
      "execution_count": 17,
      "outputs": [
        {
          "output_type": "display_data",
          "data": {
            "image/png": "[encoded data removed]",
            "text/plain": [
              "<Figure size 1152x432 with 1 Axes>"
            ]
          },
          "metadata": {
            "needs_background": "light"
          }
        }
      ]
    },
    {
      "cell_type": "markdown",
      "metadata": {
        "id": "tUBI1CMx3NUc"
      },
      "source": [
        "## 4.2 - الرسم البياني للخطأ"
      ]
    },
    {
      "cell_type": "code",
      "metadata": {
        "scrolled": false,
        "id": "PsxZJ8Nu31RG",
        "colab": {
          "base_uri": "https://localhost:8080/",
          "height": 513
        },
        "outputId": "1e5af613-7fc5-4d1a-aa2e-ff7d46e61af4"
      },
      "source": [
        "# Plot history: Loss\n",
        "plt.figure(figsize=(16,8))\n",
        "plt.plot(history.history['loss'], label='Loss (training data)')\n",
        "plt.plot(history.history['val_loss'], label='Loss (validation data)')\n",
        "plt.title('Loss')\n",
        "plt.ylabel('Loss value')\n",
        "plt.xlabel('No. epoch')\n",
        "plt.legend(loc=\"upper right\")\n",
        "plt.show()"
      ],
      "execution_count": 18,
      "outputs": [
        {
          "output_type": "display_data",
          "data": {
            "image/png": "[encoded data removed]",
            "text/plain": [
              "<Figure size 1152x576 with 1 Axes>"
            ]
          },
          "metadata": {
            "needs_background": "light"
          }
        }
      ]
    }
  ]
}